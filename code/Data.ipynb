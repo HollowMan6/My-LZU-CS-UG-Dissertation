{
 "cells": [
  {
   "cell_type": "code",
   "execution_count": 1,
   "id": "b1f49547",
   "metadata": {},
   "outputs": [
    {
     "name": "stdout",
     "output_type": "stream",
     "text": [
      "              lrad         prec          pres         shum         srad  \\\n",
      "count  5840.000000  5840.000000   5840.000000  5840.000000  5840.000000   \n",
      "mean    269.368322     0.008937  85520.866438     0.002990   192.830351   \n",
      "std      64.843664     0.085937    611.257460     0.002662   267.654341   \n",
      "min     132.250000     0.000000  83722.000000     0.000015     0.000000   \n",
      "25%     216.250000     0.000000  85050.000000     0.001126     0.000000   \n",
      "50%     265.500000     0.000000  85520.000000     0.001964     3.000000   \n",
      "75%     321.000000     0.000000  85974.000000     0.004003   351.937500   \n",
      "max     449.500000     2.692501  86820.000000     0.015863   989.500000   \n",
      "range   317.250000     2.692501   3098.000000     0.015848   989.500000   \n",
      "dis     104.750000     0.000000    924.000000     0.002878   351.937500   \n",
      "var       0.240725     9.616155      0.007147     0.890314     1.388030   \n",
      "mad      54.755331     0.016416    508.741895     0.002045   223.389189   \n",
      "skew      0.180516    19.282541      0.002316     1.564872     1.212509   \n",
      "kurt     -0.874286   443.987109     -0.726484     2.039496     0.206402   \n",
      "\n",
      "              temp         wind  \n",
      "count  5840.000000  5840.000000  \n",
      "mean    281.409456     4.037060  \n",
      "std      13.825424     2.358024  \n",
      "min     245.629990     0.051998  \n",
      "25%     270.307500     2.281998  \n",
      "50%     282.734990     3.528997  \n",
      "75%     292.570000     5.257996  \n",
      "max     311.250000    16.230000  \n",
      "range    65.620010    16.178002  \n",
      "dis      22.262500     2.975998  \n",
      "var       0.049129     0.584095  \n",
      "mad      11.776910     1.845357  \n",
      "skew     -0.236851     1.115394  \n",
      "kurt     -0.895183     1.404608  \n"
     ]
    },
    {
     "name": "stderr",
     "output_type": "stream",
     "text": [
      "C:\\Users\\j8843\\AppData\\Local\\Temp/ipykernel_17844/1881316425.py:8: FutureWarning: Dropping of nuisance columns in DataFrame reductions (with 'numeric_only=None') is deprecated; in a future version this will raise TypeError.  Select only valid columns before calling the reduction.\n",
      "  stat.loc['skew'] = data.skew()\n",
      "C:\\Users\\j8843\\AppData\\Local\\Temp/ipykernel_17844/1881316425.py:9: FutureWarning: Dropping of nuisance columns in DataFrame reductions (with 'numeric_only=None') is deprecated; in a future version this will raise TypeError.  Select only valid columns before calling the reduction.\n",
      "  stat.loc['kurt'] = data.kurt()\n"
     ]
    }
   ],
   "source": [
    "import pandas as pd\n",
    "data = pd.read_csv('data.csv')\n",
    "stat = data.describe()\n",
    "stat.loc['range'] = stat.loc['max']-stat.loc['min']\n",
    "stat.loc['dis'] = stat.loc['75%']-stat.loc['25%']\n",
    "stat.loc['var'] = stat.loc['std']/stat.loc['mean']\n",
    "stat.loc['mad'] = data.mad()\n",
    "stat.loc['skew'] = data.skew()\n",
    "stat.loc['kurt'] = data.kurt()\n",
    "print(stat)"
   ]
  },
  {
   "cell_type": "code",
   "execution_count": 2,
   "id": "64a7206d",
   "metadata": {},
   "outputs": [
    {
     "name": "stdout",
     "output_type": "stream",
     "text": [
      "SpearmanrResult(correlation=0.03528229315199814, pvalue=0.0070065793090313055)\n",
      "SpearmanrResult(correlation=0.008443728183433091, pvalue=0.5188350558375361)\n",
      "SpearmanrResult(correlation=0.07156398261497926, pvalue=4.3810149807651604e-08)\n",
      "SpearmanrResult(correlation=-0.08302721983053592, pvalue=2.0904230457715092e-10)\n",
      "SpearmanrResult(correlation=0.24649937697179994, pvalue=1.4389507268798562e-81)\n",
      "SpearmanrResult(correlation=0.05948229496676412, pvalue=5.398211275459676e-06)\n"
     ]
    }
   ],
   "source": [
    "from scipy import stats\n",
    "for item in ['lrad', 'prec', 'pres', 'shum', 'srad', 'temp']:\n",
    "    print(stats.spearmanr(data[[item]].to_numpy().ravel(), data[['wind']].to_numpy().ravel()))"
   ]
  }
 ],
 "metadata": {
  "kernelspec": {
   "display_name": "Python 3 (ipykernel)",
   "language": "python",
   "name": "python3"
  },
  "language_info": {
   "codemirror_mode": {
    "name": "ipython",
    "version": 3
   },
   "file_extension": ".py",
   "mimetype": "text/x-python",
   "name": "python",
   "nbconvert_exporter": "python",
   "pygments_lexer": "ipython3",
   "version": "3.9.7"
  }
 },
 "nbformat": 4,
 "nbformat_minor": 5
}
